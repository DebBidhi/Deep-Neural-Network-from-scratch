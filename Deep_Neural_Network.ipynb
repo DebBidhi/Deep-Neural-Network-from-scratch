{
  "nbformat": 4,
  "nbformat_minor": 0,
  "metadata": {
    "colab": {
      "provenance": [],
      "authorship_tag": "ABX9TyMALqPoV/e8GVqcoOJkGruE"
    },
    "kernelspec": {
      "name": "python3",
      "display_name": "Python 3"
    },
    "language_info": {
      "name": "python"
    }
  },
  "cells": [
    {
      "cell_type": "code",
      "execution_count": 37,
      "metadata": {
        "id": "ITxcndJKFoNG"
      },
      "outputs": [],
      "source": [
        "import numpy as np\n",
        "import h5py\n",
        "import matplotlib.pyplot as plt"
      ]
    },
    {
      "cell_type": "code",
      "source": [
        "def initialize_parameters_deep(layer_dims):\n",
        "    \"\"\"\n",
        "    Initialize parameters for a deep neural network\n",
        "    \"\"\"\n",
        "    np.random.seed(1)\n",
        "    parameters = {}\n",
        "    L = len(layer_dims)\n",
        "\n",
        "    for l in range(1, L):\n",
        "        parameters['W' + str(l)] = np.random.randn(layer_dims[l], layer_dims[l-1]) * np.sqrt(2./layer_dims[l-1])\n",
        "        parameters['b' + str(l)] = np.zeros((layer_dims[l], 1))\n",
        "\n",
        "        # print(f\"Initialization - Layer {l}:\")\n",
        "        # print(f\"W{l} shape: {parameters['W' + str(l)].shape}\")\n",
        "        # print(f\"b{l} shape: {parameters['b' + str(l)].shape}\")\n",
        "\n",
        "        assert(parameters['W' + str(l)].shape == (layer_dims[l], layer_dims[l-1]))\n",
        "        assert(parameters['b' + str(l)].shape == (layer_dims[l], 1))\n",
        "\n",
        "    return parameters"
      ],
      "metadata": {
        "id": "jjlHzZhWGOsF"
      },
      "execution_count": 38,
      "outputs": []
    },
    {
      "cell_type": "code",
      "source": [
        "def linear_forward(A, W, b):\n",
        "    \"\"\"\n",
        "    Implement forward propagation for a linear layer\n",
        "\n",
        "    Arguments:\n",
        "    A -- activations from previous layer (or input data): (size of previous layer, number of examples)\n",
        "    W -- weights matrix: numpy array of shape (size of current layer, size of previous layer)\n",
        "    b -- bias vector, numpy array of shape (size of the current layer, 1)\n",
        "\n",
        "    Returns:\n",
        "    Z -- the input of the activation function\n",
        "    cache -- a python tuple containing \"A\", \"W\" and \"b\" for computing backward pass efficiently\n",
        "    \"\"\"\n",
        "    # Print shapes for debugging\n",
        "    # print(f\"Forward pass shapes:\")\n",
        "    # print(f\"A shape: {A.shape}\")\n",
        "    # print(f\"W shape: {W.shape}\")\n",
        "    # print(f\"b shape: {b.shape}\")\n",
        "\n",
        "    # Compute Z = WA + b while ensuring proper broadcasting\n",
        "    Z = np.dot(W, A) + b\n",
        "\n",
        "    assert(Z.shape == (W.shape[0], A.shape[1]))\n",
        "    cache = (A, W, b)\n",
        "\n",
        "    return Z, cache"
      ],
      "metadata": {
        "id": "zwr82MODF8-7"
      },
      "execution_count": 39,
      "outputs": []
    },
    {
      "cell_type": "code",
      "source": [
        "def sigmoid(Z):\n",
        "    \"\"\"\n",
        "    Arguments:\n",
        "    Z -- Output of the linear layer, of any shape\n",
        "\n",
        "    Returns:\n",
        "    A -- output of sigmoid(z), same shape as Z\n",
        "    cache -- returns Z as well, useful during backpropagation\n",
        "    \"\"\"\n",
        "\n",
        "    A = 1/(1+np.exp(-Z))\n",
        "    cache = Z\n",
        "\n",
        "    return A, cache\n",
        "\n",
        "def relu(Z):\n",
        "  \"\"\"\n",
        "  Arguments:\n",
        "  Z -- Output of the linear layer, of any shape\n",
        "\n",
        "  Returns:\n",
        "  A -- Post-activation parameter, of the same shape as Z\n",
        "  cache -- a python dictionary containing \"A\" ; stored for computing the backward pass efficiently\n",
        "  \"\"\"\n",
        "  A = np.maximum(0,Z)\n",
        "\n",
        "  assert(A.shape == Z.shape)\n",
        "\n",
        "  cache = Z\n",
        "\n",
        "  return A, cache"
      ],
      "metadata": {
        "id": "JbxEjzBeIz3h"
      },
      "execution_count": 40,
      "outputs": []
    },
    {
      "cell_type": "code",
      "source": [
        "def linear_activation_forward(A_prev, W, b, activation):\n",
        "    \"\"\"\n",
        "    Arguments:\n",
        "    A_prev -- activations from previous layer (or input data): (size of previous layer, number of examples)\n",
        "    W -- weights matrix: numpy array of shape (size of current layer, size of previous layer)\n",
        "    b -- bias vector, numpy array of shape (size of the current layer, 1)\n",
        "    activation -- the activation to be used in this layer, stored as a text string: \"sigmoid\" or \"relu\"\n",
        "\n",
        "    Returns:\n",
        "    A -- the output of the activation function, also called the post-activation value\n",
        "    cache -- a python dictionary containing \"linear_cache\" and \"activation_cache\";\n",
        "             stored for computing the backward pass efficiently\n",
        "    \"\"\"\n",
        "\n",
        "    if activation == \"sigmoid\":\n",
        "        Z, linear_cache = linear_forward(A_prev, W, b)\n",
        "        A, activation_cache = sigmoid(Z)\n",
        "\n",
        "    elif activation == \"relu\":\n",
        "        Z, linear_cache = linear_forward(A_prev, W, b)\n",
        "        A, activation_cache = relu(Z)\n",
        "\n",
        "    assert (A.shape == (W.shape[0], A_prev.shape[1]))\n",
        "    cache = (linear_cache, activation_cache)\n",
        "\n",
        "    return A, cache"
      ],
      "metadata": {
        "id": "NXvMMsRhHvD2"
      },
      "execution_count": 41,
      "outputs": []
    },
    {
      "cell_type": "code",
      "source": [
        "def L_model_forward(X, parameters):\n",
        "    \"\"\"\n",
        "    Implement forward propagation for the [LINEAR->RELU]*(L-1)->LINEAR->SIGMOID computation.\n",
        "\n",
        "    Arguments:\n",
        "    X -- data, numpy array of shape (input size, number of examples)\n",
        "    parameters -- output of initialize_parameters_deep(), dictionary containing weights and biases\n",
        "\n",
        "    Returns:\n",
        "    AL -- last post-activation value (output layer)\n",
        "    caches -- list of caches for each layer's linear and activation operations\n",
        "    \"\"\"\n",
        "\n",
        "    if not parameters:  # Check if parameters is empty\n",
        "        raise ValueError(\"Parameters dictionary is empty. Please initialize the model properly.\")\n",
        "\n",
        "    caches = []\n",
        "    A = X\n",
        "    L = len(parameters) // 2  # Number of layers in the neural network\n",
        "\n",
        "    # Forward propagation through L-1 layers using ReLU activation\n",
        "    for l in range(1, L):\n",
        "        A_prev = A\n",
        "        W = parameters.get(f'W{l}')\n",
        "        b = parameters.get(f'b{l}')\n",
        "\n",
        "        if W is None or b is None:\n",
        "            raise ValueError(f\"Missing parameters for layer {l}: W{l}, b{l}\")\n",
        "\n",
        "        A, cache = linear_activation_forward(A_prev, W, b, activation='relu')\n",
        "        caches.append(cache)\n",
        "\n",
        "    # Forward propagation through the final layer using Sigmoid activation\n",
        "    W_final = parameters.get(f'W{L}')\n",
        "    b_final = parameters.get(f'b{L}')\n",
        "\n",
        "    if W_final is None or b_final is None:\n",
        "        raise ValueError(f\"Missing parameters for final layer {L}: W{L}, b{L}\")\n",
        "\n",
        "    AL, cache = linear_activation_forward(A, W_final, b_final, activation='sigmoid')\n",
        "    caches.append(cache)\n",
        "\n",
        "    # Debugging Information\n",
        "    # print(f\"Shape of AL: {AL.shape}\")\n",
        "    # print(f\"Expected shape of AL: {(1, X.shape[1])}\")\n",
        "\n",
        "    # Ensure AL has the correct shape (1, number of examples)\n",
        "    assert AL.shape == (1, X.shape[1]), f\"AL shape mismatch: got {AL.shape}, expected {(1, X.shape[1])}\"\n",
        "\n",
        "    return AL, caches\n"
      ],
      "metadata": {
        "id": "ieRmt_m-IqQq"
      },
      "execution_count": 42,
      "outputs": []
    },
    {
      "cell_type": "code",
      "source": [
        "def compute_cost(AL, Y):\n",
        "    \"\"\"\n",
        "    Arguments:\n",
        "    AL -- probability vector corresponding to your label predictions, shape (1, number of examples)\n",
        "    Y -- true \"label\" vector (for example: containing 0 if non-cat, 1 if cat), shape (1, number of examples)\n",
        "\n",
        "    Returns:\n",
        "    cost -- cross-entropy cost\n",
        "    \"\"\"\n",
        "\n",
        "    m = Y.shape[1]\n",
        "\n",
        "    # Compute loss from aL and y.\n",
        "    cost = (-1 / m) * np.sum(np.multiply(Y, np.log(AL)) + np.multiply(1 - Y, np.log(1 - AL)))\n",
        "\n",
        "    cost = np.squeeze(cost)      # To make sure your cost's shape is what we expect (e.g. this turns [[17]] into 17).\n",
        "    assert(cost.shape == ())\n",
        "\n",
        "    return cost"
      ],
      "metadata": {
        "id": "qG9so6CJJJ7I"
      },
      "execution_count": 43,
      "outputs": []
    },
    {
      "cell_type": "code",
      "source": [
        "def linear_backward(dZ, cache):\n",
        "    \"\"\"\n",
        "    Implements the linear portion of backward propagation for a single layer.\n",
        "\n",
        "    Arguments:\n",
        "    dZ -- Gradient of the cost with respect to the linear output (of current layer l)\n",
        "    cache -- tuple of values (A_prev, W, b) coming from the forward propagation in the current layer\n",
        "\n",
        "    Returns:\n",
        "    dA_prev -- Gradient of the cost with respect to the activation (of the previous layer l-1)\n",
        "    dW -- Gradient of the cost with respect to W (current layer l)\n",
        "    db -- Gradient of the cost with respect to b (current layer l)\n",
        "    \"\"\"\n",
        "    A_prev, W, b = cache\n",
        "    m = A_prev.shape[1]\n",
        "\n",
        "    # Compute gradients\n",
        "    dW = (1/m) * np.dot(dZ, A_prev.T)\n",
        "    db = (1/m) * np.sum(dZ, axis=1, keepdims=True)\n",
        "    dA_prev = np.dot(W.T, dZ)\n",
        "\n",
        "    # Print shapes for debugging\n",
        "    # print(f\"dW shape: {dW.shape}\")\n",
        "    # print(f\"db shape: {db.shape}\")\n",
        "    # print(f\"dA_prev shape: {dA_prev.shape}\")\n",
        "\n",
        "    assert(dA_prev.shape == A_prev.shape)\n",
        "    assert(dW.shape == W.shape)\n",
        "    assert(db.shape == b.shape)\n",
        "\n",
        "    return dA_prev, dW, db"
      ],
      "metadata": {
        "id": "UAXBcC_GJYVk"
      },
      "execution_count": 44,
      "outputs": []
    },
    {
      "cell_type": "code",
      "source": [
        "def relu_backward(dA, cache):\n",
        "    \"\"\"\n",
        "    Arguments:\n",
        "    dA -- post-activation gradient, of any shape\n",
        "    cache -- 'Z' where we store for computing backward propagation efficiently\n",
        "\n",
        "    Returns:\n",
        "    dZ -- Gradient of the cost with respect to Z\n",
        "    \"\"\"\n",
        "    Z = cache\n",
        "    dZ = np.array(dA, copy=True)\n",
        "    dZ[Z <= 0] = 0\n",
        "\n",
        "    assert (dZ.shape == Z.shape)\n",
        "\n",
        "    return dZ\n",
        "\n",
        "def sigmoid_backward(dA, cache):\n",
        "    \"\"\"\n",
        "    Arguments:\n",
        "    dA -- post-activation gradient, of any shape\n",
        "    cache -- 'Z' where we store for computing backward propagation efficiently\n",
        "\n",
        "    Returns:\n",
        "    dZ -- Gradient of the cost with respect to Z\n",
        "    \"\"\"\n",
        "\n",
        "    Z =cache\n",
        "    dZ = dA * sigmoid(Z)[0] * (1 - sigmoid(Z)[0])\n",
        "\n",
        "    assert (dZ.shape == Z.shape)\n",
        "\n",
        "    return dZ"
      ],
      "metadata": {
        "id": "GA_TCbEHKTQN"
      },
      "execution_count": 45,
      "outputs": []
    },
    {
      "cell_type": "code",
      "source": [
        "def linear_activation_backward(dA, cache, activation):\n",
        "    \"\"\"\n",
        "    Implement the backward propagation for the LINEAR->ACTIVATION layer.\n",
        "\n",
        "    Arguments:\n",
        "    dA -- post-activation gradient for current layer l\n",
        "    cache -- tuple of values (linear_cache, activation_cache) we store for computing backward propagation efficiently\n",
        "    activation -- the activation to be used in this layer, stored as a text string: \"sigmoid\" or \"relu\"\n",
        "\n",
        "    Returns:\n",
        "    dA_prev -- Gradient of the cost with respect to the activation (of the previous layer l-1), same shape as A_prev\n",
        "    dW -- Gradient of the cost with respect to W (current layer l), same shape as W\n",
        "    db -- Gradient of the cost with respect to b (current layer l), same shape as b\n",
        "    \"\"\"\n",
        "    linear_cache, activation_cache = cache\n",
        "\n",
        "    if activation == \"relu\":\n",
        "        dZ = relu_backward(dA, activation_cache)\n",
        "\n",
        "    elif activation == \"sigmoid\":\n",
        "        dZ = sigmoid_backward(dA, activation_cache)\n",
        "\n",
        "    # Shorten the code\n",
        "    dA_prev, dW, db = linear_backward(dZ, linear_cache)\n",
        "\n",
        "    return dA_prev, dW, db"
      ],
      "metadata": {
        "id": "fVHEtpdHJqfw"
      },
      "execution_count": 46,
      "outputs": []
    },
    {
      "cell_type": "code",
      "source": [
        "import numpy as np\n",
        "\n",
        "def L_model_backward(AL, Y, caches):\n",
        "    \"\"\"\n",
        "    Implement the backward propagation for the [LINEAR->RELU] * (L-1) -> LINEAR -> SIGMOID group.\n",
        "\n",
        "    Arguments:\n",
        "    AL -- probability vector, output of the forward propagation (L_model_forward())\n",
        "    Y -- true \"label\" vector (containing 0 if non-cat, 1 if cat)\n",
        "    caches -- list of caches:\n",
        "                - caches[l] for ReLU layers (from 0 to L-2)\n",
        "                - caches[L-1] for the sigmoid layer\n",
        "\n",
        "    Returns:\n",
        "    grads -- Dictionary containing gradients:\n",
        "             - grads[\"dA\" + str(l)]\n",
        "             - grads[\"dW\" + str(l)]\n",
        "             - grads[\"db\" + str(l)]\n",
        "    \"\"\"\n",
        "\n",
        "    grads = {}\n",
        "    L = len(caches)  # Number of layers\n",
        "    m = AL.shape[1]\n",
        "    Y = Y.reshape(AL.shape)  # Ensure Y has the same shape as AL\n",
        "\n",
        "    # Compute dAL (derivative of loss with respect to AL)\n",
        "    dAL = - (np.divide(Y, AL) - np.divide(1 - Y, 1 - AL))\n",
        "\n",
        "    # Backpropagation for the last layer (SIGMOID -> LINEAR)\n",
        "    current_cache = caches[-1]\n",
        "    linear_cache, activation_cache = current_cache  # Unpacking cache\n",
        "    dA_prev, dW, db = linear_backward(sigmoid_backward(dAL, activation_cache), linear_cache)\n",
        "\n",
        "    grads[\"dA\" + str(L)] = dA_prev\n",
        "    grads[\"dW\" + str(L)] = dW\n",
        "    grads[\"db\" + str(L)] = db\n",
        "\n",
        "    # Loop through layers in reverse order (ReLU -> LINEAR)\n",
        "    for l in reversed(range(L - 1)):\n",
        "        current_cache = caches[l]\n",
        "        linear_cache, activation_cache = current_cache  # Unpacking cache\n",
        "\n",
        "        # Using relu_backward instead of sigmoid_backward\n",
        "        dA_prev, dW, db = linear_backward(relu_backward(grads[\"dA\" + str(l + 2)], activation_cache), linear_cache)\n",
        "\n",
        "        grads[\"dA\" + str(l + 1)] = dA_prev\n",
        "        grads[\"dW\" + str(l + 1)] = dW\n",
        "        grads[\"db\" + str(l + 1)] = db\n",
        "\n",
        "    return grads\n"
      ],
      "metadata": {
        "id": "mgrkDbEYKpO_"
      },
      "execution_count": 47,
      "outputs": []
    },
    {
      "cell_type": "code",
      "source": [
        "def update_parameters(parameters, grads, learning_rate):\n",
        "    \"\"\"\n",
        "    Update parameters using gradient descent\n",
        "\n",
        "    Arguments:\n",
        "    parameters -- python dictionary containing your parameters\n",
        "    grads -- python dictionary containing your gradients, output of L_model_backward\n",
        "    learning_rate -- learning rate of the gradient descent update rule\n",
        "\n",
        "    Returns:\n",
        "    parameters -- python dictionary containing your updated parameters\n",
        "    \"\"\"\n",
        "    L = len(parameters) // 2  # number of layers in the neural network\n",
        "\n",
        "    for l in range(L):\n",
        "        parameters[\"W\" + str(l + 1)] = parameters[\"W\" + str(l + 1)] - learning_rate * grads[\"dW\" + str(l + 1)]\n",
        "        parameters[\"b\" + str(l + 1)] = parameters[\"b\" + str(l + 1)] - learning_rate * grads[\"db\" + str(l + 1)]\n",
        "\n",
        "        # Print shapes for debugging\n",
        "        # print(f\"Layer {l+1} updated shapes:\")\n",
        "        # print(f\"W{l+1} shape: {parameters['W' + str(l + 1)].shape}\")\n",
        "        # print(f\"b{l+1} shape: {parameters['b' + str(l + 1)].shape}\")\n",
        "\n",
        "    return parameters"
      ],
      "metadata": {
        "id": "viTRsLO4K1TF"
      },
      "execution_count": 48,
      "outputs": []
    },
    {
      "cell_type": "code",
      "source": [
        "def L_layer_model(X, Y, layers_dims, learning_rate=0.0075, num_iterations=3000, print_cost=False): #lr was 0.009\n",
        "    \"\"\"\n",
        "    Implements a L-layer neural network: [LINEAR->RELU]*(L-1)->LINEAR->SIGMOID.\n",
        "\n",
        "    Arguments:\n",
        "    X -- data, numpy array of shape (number of examples, num_px * num_px * 3)\n",
        "    Y -- true \"label\" vector (containing 0 if cat, 1 if non-cat), of shape (1, number of examples)\n",
        "    layers_dims -- list containing the input size and each layer size, of length (number of layers + 1).\n",
        "    learning_rate -- learning rate of the gradient descent update rule\n",
        "    num_iterations -- number of iterations of the optimization loop\n",
        "    print_cost -- if True, it prints the cost every 100 steps\n",
        "\n",
        "    Returns:\n",
        "    parameters -- parameters learnt by the model. They can then be used to predict.\n",
        "    \"\"\"\n",
        "\n",
        "    costs = []                         # keep track of cost\n",
        "\n",
        "    # Parameters initialization.\n",
        "    parameters = initialize_parameters_deep(layers_dims)\n",
        "\n",
        "    # Loop (gradient descent)\n",
        "    for i in range(0, num_iterations):\n",
        "\n",
        "        # Forward propagation: [LINEAR -> RELU]*(L-1) -> LINEAR -> SIGMOID.\n",
        "        AL, caches = L_model_forward(X, parameters)\n",
        "        cost = compute_cost(AL, Y)\n",
        "\n",
        "        # Backward propagation.\n",
        "        grads = L_model_backward(AL, Y, caches)\n",
        "\n",
        "        parameters = update_parameters(parameters, grads, learning_rate)\n",
        "\n",
        "        if print_cost and i % 100 == 0:\n",
        "            print (\"Cost after iteration %i: %f\" % (i, cost))\n",
        "        if print_cost and i % 100 == 0:\n",
        "            costs.append(cost)\n",
        "\n",
        "    plt.plot(np.squeeze(costs))\n",
        "    plt.ylabel('cost')\n",
        "    plt.xlabel('iterations (per tens)')\n",
        "    plt.title(\"Learning rate =\" + str(learning_rate))\n",
        "    plt.show()\n",
        "\n",
        "    return parameters"
      ],
      "metadata": {
        "id": "pVRaY_6rLLc2"
      },
      "execution_count": 49,
      "outputs": []
    },
    {
      "cell_type": "code",
      "source": [
        "import os\n",
        "import numpy as np\n",
        "import matplotlib.pyplot as plt\n",
        "import h5py\n",
        "import scipy\n",
        "from PIL import Image\n",
        "from scipy import ndimage\n",
        "\n",
        "%matplotlib inline\n",
        "\n",
        "!kaggle datasets download -d izznfkhrlislm/carnoncar-dataset\n",
        "!unzip carnoncar-dataset.zip -d carnoncar-dataset"
      ],
      "metadata": {
        "colab": {
          "base_uri": "https://localhost:8080/"
        },
        "id": "cJLyyV41Lj2B",
        "outputId": "9e7024c1-8e36-4272-dc65-fd9ac251bb1f"
      },
      "execution_count": 50,
      "outputs": [
        {
          "output_type": "stream",
          "name": "stdout",
          "text": [
            "Dataset URL: https://www.kaggle.com/datasets/izznfkhrlislm/carnoncar-dataset\n",
            "License(s): unknown\n",
            "carnoncar-dataset.zip: Skipping, found more recently modified local copy (use --force to force download)\n",
            "Archive:  carnoncar-dataset.zip\n",
            "replace carnoncar-dataset/car_scaled/car_scaled/car_scaled_1.png? [y]es, [n]o, [A]ll, [N]one, [r]ename: N\n"
          ]
        }
      ]
    },
    {
      "cell_type": "code",
      "source": [
        "car_dir = \"carnoncar-dataset/car_scaled/car_scaled\"\n",
        "non_car_dir = \"carnoncar-dataset/non_car_scaled/non_car_scaled\"\n",
        "# print some images\n",
        "file_names = os.listdir(car_dir)\n",
        "img_path = os.path.join(car_dir, file_names[4])\n",
        "img = Image.open(img_path)\n",
        "plt.figure()\n",
        "plt.imshow(img)\n",
        "plt.title(f\"example car image\")\n",
        "plt.axis('off')\n",
        "plt.show()\n",
        "print(f\"image dimension: {img.size}\")\n",
        "file_names = os.listdir(non_car_dir)\n",
        "img_path = os.path.join(non_car_dir, file_names[0])\n",
        "img = Image.open(img_path)\n",
        "plt.figure()\n",
        "plt.imshow(img)\n",
        "plt.title(f\"example non-car image\")\n",
        "plt.axis('off')\n",
        "plt.show()\n"
      ],
      "metadata": {
        "colab": {
          "base_uri": "https://localhost:8080/",
          "height": 856
        },
        "id": "peBdja9jNXHJ",
        "outputId": "29eebd8f-9f9b-40f8-922e-1f88c29bf6b6"
      },
      "execution_count": 51,
      "outputs": [
        {
          "output_type": "display_data",
          "data": {
            "text/plain": [
              "<Figure size 640x480 with 1 Axes>"
            ],
            "image/png": "[encoded data removed]"
          },
          "metadata": {}
        },
        {
          "output_type": "stream",
          "name": "stdout",
          "text": [
            "image dimension: (72, 72)\n"
          ]
        },
        {
          "output_type": "display_data",
          "data": {
            "text/plain": [
              "<Figure size 640x480 with 1 Axes>"
            ],
            "image/png": "[encoded data removed]"
          },
          "metadata": {}
        }
      ]
    },
    {
      "cell_type": "code",
      "source": [
        "car_dir = \"carnoncar-dataset/car_scaled/car_scaled\"\n",
        "non_car_dir = \"carnoncar-dataset/non_car_scaled/non_car_scaled\"\n",
        "\n",
        "# Function to load images and labels\n",
        "def load_dataset(folder, label):\n",
        "    images = []\n",
        "    for filename in os.listdir(folder):\n",
        "        img_path = os.path.join(folder, filename)\n",
        "        img = Image.open(img_path)\n",
        "        img_array = np.array(img)\n",
        "        images.append(img_array)\n",
        "\n",
        "    labels = [label] * len(images)\n",
        "\n",
        "    return images, labels\n",
        "\n",
        "# Load car and non-car images\n",
        "car_images, car_labels = load_dataset(car_dir, 1)\n",
        "non_car_images, non_car_labels = load_dataset(non_car_dir, 0)\n",
        "\n",
        "# Combine and shuffle data\n",
        "X = np.array(car_images + non_car_images)\n",
        "Y = np.array(car_labels + non_car_labels)\n",
        "\n",
        "# Shuffle dataset\n",
        "m = X.shape[0]\n",
        "indices = np.random.permutation(m)\n",
        "X = X[indices]\n",
        "Y = Y[indices]\n",
        "\n",
        "# Split into train/test (80/20)\n",
        "split = int(m * 0.8)\n",
        "train_set_x_orig = X[:split]\n",
        "train_set_y = Y[:split].reshape(1, -1)  # Shape (1, m_train)\n",
        "test_set_x_orig = X[split:]\n",
        "test_set_y = Y[split:].reshape(1, -1)   # Shape (1, m_test)\n",
        "\n",
        "# Define classes\n",
        "classes = ['non-car', 'car']\n",
        "\n",
        "# Dataset statistics\n",
        "m_train = train_set_y.shape[1]\n",
        "m_test = test_set_y.shape[1]\n",
        "num_px = train_set_x_orig.shape[1]  # Assuming square images\n",
        "\n",
        "print(f\"Training Examples: {m_train}\")\n",
        "print(f\"Test Examples: {m_test}\")\n",
        "print(f\"Image Dimensions: {num_px}x{num_px}\")\n",
        "print(f\"Train Data Shape: {train_set_x_orig.shape}\")\n",
        "print(f\"Train Labels Shape: {train_set_y.shape}\")\n",
        "\n",
        "# Flatten and normalize images\n",
        "train_set_x_flatten = train_set_x_orig.reshape(train_set_x_orig.shape[0], -1).T\n",
        "test_set_x_flatten = test_set_x_orig.reshape(test_set_x_orig.shape[0], -1).T\n",
        "\n",
        "train_set_x = train_set_x_flatten / 255.0\n",
        "test_set_x = test_set_x_flatten / 255.0\n",
        "\n",
        "print(\"\\nAfter preprocessing:\")\n",
        "print(f\"Flattened Train Shape: {train_set_x.shape}\")\n",
        "print(f\"Flattened Test Shape: {test_set_x.shape}\")"
      ],
      "metadata": {
        "colab": {
          "base_uri": "https://localhost:8080/"
        },
        "id": "wldtwbsdNZj7",
        "outputId": "33e5a1e0-4f9b-4d9e-a907-31051d89f525"
      },
      "execution_count": 52,
      "outputs": [
        {
          "output_type": "stream",
          "name": "stdout",
          "text": [
            "Training Examples: 168\n",
            "Test Examples: 43\n",
            "Image Dimensions: 72x72\n",
            "Train Data Shape: (168, 72, 72, 4)\n",
            "Train Labels Shape: (1, 168)\n",
            "\n",
            "After preprocessing:\n",
            "Flattened Train Shape: (20736, 168)\n",
            "Flattened Test Shape: (20736, 43)\n"
          ]
        }
      ]
    },
    {
      "cell_type": "code",
      "source": [
        "# Define architecture\n",
        "layers_dims = [20736, 20, 7, 1]  # your input dimension is 20736\n",
        "\n",
        "# Train model\n",
        "parameters = L_layer_model(train_set_x, train_set_y,\n",
        "                         layers_dims,\n",
        "                         learning_rate=0.001,\n",
        "                         num_iterations=3000,\n",
        "                         print_cost=True)"
      ],
      "metadata": {
        "colab": {
          "base_uri": "https://localhost:8080/",
          "height": 993
        },
        "id": "dMVMDBkKUKNL",
        "outputId": "0d4046c6-e706-4c00-ae37-d7e928d2d628"
      },
      "execution_count": 53,
      "outputs": [
        {
          "output_type": "stream",
          "name": "stdout",
          "text": [
            "Cost after iteration 0: 0.773990\n",
            "Cost after iteration 100: 0.522331\n",
            "Cost after iteration 200: 0.430386\n",
            "Cost after iteration 300: 0.335959\n",
            "Cost after iteration 400: 0.278164\n",
            "Cost after iteration 500: 0.241322\n",
            "Cost after iteration 600: 0.215975\n",
            "Cost after iteration 700: 0.197212\n",
            "Cost after iteration 800: 0.182496\n",
            "Cost after iteration 900: 0.170485\n",
            "Cost after iteration 1000: 0.160323\n",
            "Cost after iteration 1100: 0.151494\n",
            "Cost after iteration 1200: 0.143627\n",
            "Cost after iteration 1300: 0.136462\n",
            "Cost after iteration 1400: 0.129894\n",
            "Cost after iteration 1500: 0.123858\n",
            "Cost after iteration 1600: 0.118235\n",
            "Cost after iteration 1700: 0.112963\n",
            "Cost after iteration 1800: 0.107985\n",
            "Cost after iteration 1900: 0.103277\n",
            "Cost after iteration 2000: 0.098821\n",
            "Cost after iteration 2100: 0.094592\n",
            "Cost after iteration 2200: 0.090594\n",
            "Cost after iteration 2300: 0.086804\n",
            "Cost after iteration 2400: 0.083208\n",
            "Cost after iteration 2500: 0.079805\n",
            "Cost after iteration 2600: 0.076586\n",
            "Cost after iteration 2700: 0.073519\n",
            "Cost after iteration 2800: 0.070610\n",
            "Cost after iteration 2900: 0.067844\n"
          ]
        },
        {
          "output_type": "display_data",
          "data": {
            "text/plain": [
              "<Figure size 640x480 with 1 Axes>"
            ],
            "image/png": "[encoded data removed]"
          },
          "metadata": {}
        }
      ]
    },
    {
      "cell_type": "code",
      "source": [
        "# accuracy\n",
        "def predict(X, parameters):\n",
        "    \"\"\"\n",
        "    Predict whether the label is 0 or 1 using learned parameters.\n",
        "\n",
        "    Arguments:\n",
        "    X -- input data of shape (n_x, number of examples)\n",
        "    parameters -- trained parameters of the model\n",
        "\n",
        "    Returns:\n",
        "    predictions -- vector of predictions of shape (1, number of examples)\n",
        "    \"\"\"\n",
        "    # Forward propagation\n",
        "    AL, _ = L_model_forward(X, parameters)\n",
        "\n",
        "    # Convert probabilities to binary predictions\n",
        "    predictions = (AL > 0.5).astype(int)\n",
        "\n",
        "    return predictions\n",
        "\n",
        "def compute_accuracy(predictions, Y):\n",
        "    \"\"\"\n",
        "    Calculate accuracy of predictions compared to true labels.\n",
        "\n",
        "    Arguments:\n",
        "    predictions -- binary predictions (0/1)\n",
        "    Y -- true labels\n",
        "\n",
        "    Returns:\n",
        "    accuracy -- accuracy as a percentage\n",
        "    \"\"\"\n",
        "    accuracy = np.mean(predictions == Y) * 100\n",
        "    return accuracy\n",
        "\n",
        "# Make predictions on train and test sets\n",
        "train_predictions = predict(train_set_x, parameters)\n",
        "test_predictions = predict(test_set_x, parameters)\n",
        "\n",
        "# Calculate accuracies\n",
        "train_accuracy = compute_accuracy(train_predictions, train_set_y)\n",
        "test_accuracy = compute_accuracy(test_predictions, test_set_y)\n",
        "\n",
        "# Print results with detailed metrics\n",
        "print(\"\\nModel Evaluation Metrics:\")\n",
        "print(\"-\" * 30)\n",
        "print(f\"Training Accuracy: {train_accuracy:.2f}%\")\n",
        "print(f\"Test Accuracy: {test_accuracy:.2f}%\")\n",
        "\n",
        "# Calculate confusion matrix for test set\n",
        "test_cm = {\n",
        "    'true_positive': np.sum((test_predictions == 1) & (test_set_y == 1)),\n",
        "    'true_negative': np.sum((test_predictions == 0) & (test_set_y == 0)),\n",
        "    'false_positive': np.sum((test_predictions == 1) & (test_set_y == 0)),\n",
        "    'false_negative': np.sum((test_predictions == 0) & (test_set_y == 1))\n",
        "}\n",
        "\n",
        "# Print detailed metrics\n",
        "print(\"\\nDetailed Test Set Metrics:\")\n",
        "print(\"-\" * 30)\n",
        "print(f\"True Positives: {test_cm['true_positive']}\")\n",
        "print(f\"True Negatives: {test_cm['true_negative']}\")\n",
        "print(f\"False Positives: {test_cm['false_positive']}\")\n",
        "print(f\"False Negatives: {test_cm['false_negative']}\")\n",
        "\n",
        "# Calculate precision, recall, and F1 score\n",
        "precision = test_cm['true_positive'] / (test_cm['true_positive'] + test_cm['false_positive'])\n",
        "recall = test_cm['true_positive'] / (test_cm['true_positive'] + test_cm['false_negative'])\n",
        "f1_score = 2 * (precision * recall) / (precision + recall)\n",
        "\n",
        "print(f\"\\nPrecision: {precision:.2f}\")\n",
        "print(f\"Recall: {recall:.2f}\")\n",
        "print(f\"F1 Score: {f1_score:.2f}\\n\")\n",
        "\n",
        "\n",
        "#########################\n",
        "# Calculate confusion matrix for test set\n",
        "test_cm = {\n",
        "    'true_positive': np.sum((train_predictions == 1) & (train_set_y == 1)),\n",
        "    'true_negative': np.sum((train_predictions == 0) & (train_set_y == 0)),\n",
        "    'false_positive': np.sum((train_predictions == 1) & (train_set_y == 0)),\n",
        "    'false_negative': np.sum((train_predictions == 0) & (train_set_y == 1))\n",
        "}\n",
        "\n",
        "\n",
        "print(\"Detailed Train Set Metrics:\")\n",
        "print(\"-\" * 30)\n",
        "print(f\"True Positives: {test_cm['true_positive']}\")\n",
        "print(f\"True Negatives: {test_cm['true_negative']}\")\n",
        "print(f\"False Positives: {test_cm['false_positive']}\")\n",
        "print(f\"False Negatives: {test_cm['false_negative']}\")\n",
        "\n",
        "\n",
        "\n"
      ],
      "metadata": {
        "colab": {
          "base_uri": "https://localhost:8080/"
        },
        "id": "mnJ9zPB-U0e5",
        "outputId": "50cf2d1d-48cc-44c3-ebbc-a91a970e41e8"
      },
      "execution_count": 63,
      "outputs": [
        {
          "output_type": "stream",
          "name": "stdout",
          "text": [
            "\n",
            "Model Evaluation Metrics:\n",
            "------------------------------\n",
            "Training Accuracy: 99.40%\n",
            "Test Accuracy: 97.67%\n",
            "\n",
            "Detailed Test Set Metrics:\n",
            "------------------------------\n",
            "True Positives: 25\n",
            "True Negatives: 17\n",
            "False Positives: 1\n",
            "False Negatives: 0\n",
            "\n",
            "Precision: 0.96\n",
            "Recall: 1.00\n",
            "F1 Score: 0.98\n",
            "\n",
            "Detailed Train Set Metrics:\n",
            "------------------------------\n",
            "True Positives: 81\n",
            "True Negatives: 86\n",
            "False Positives: 0\n",
            "False Negatives: 1\n"
          ]
        }
      ]
    },
    {
      "cell_type": "code",
      "source": [
        "from ctypes import sizeof\n",
        "import pickle\n",
        "def sigmoid(Z):\n",
        "    \"\"\"\n",
        "    Compute sigmoid of Z\n",
        "    \"\"\"\n",
        "    return 1/(1 + np.exp(-Z))\n",
        "\n",
        "def save_parameters(parameters, filename='parameters.pkl'):\n",
        "    \"\"\"\n",
        "    Save the model parameters in the correct format\n",
        "    \"\"\"\n",
        "    # Save all layers instead of just the first one\n",
        "    p = {\n",
        "        \"parameters\": parameters  # Save the complete parameters dictionary\n",
        "    }\n",
        "\n",
        "    with open(filename, 'wb') as f:\n",
        "        pickle.dump(p, f)\n",
        "    print(f\"Parameters saved to {filename}\")\n",
        "\n",
        "def predict_from_png(image_path, p):\n",
        "    \"\"\"\n",
        "    Predict whether an image contains a car using the full neural network\n",
        "\n",
        "    Arguments:\n",
        "    image_path -- path to the image\n",
        "    p -- dictionary containing the neural network parameters\n",
        "    \"\"\"\n",
        "    try:\n",
        "        # Load and preprocess image\n",
        "        img = Image.open(image_path)\n",
        "        img = img.resize((72, 72))  # Match the original training image size\n",
        "        img_array = np.array(img)\n",
        "        print(len(img_array))\n",
        "\n",
        "\n",
        "        # Normalize and reshape\n",
        "        img_array = img_array / 255.0\n",
        "        img_flatten = img_array.reshape(-1, 1)  # Flatten to (n_x, 1)\n",
        "\n",
        "        # Get the full set of parameters\n",
        "        parameters = p[\"parameters\"]\n",
        "\n",
        "        # Forward propagation through the network\n",
        "        A = img_flatten\n",
        "        L = len(parameters) // 2\n",
        "\n",
        "        # Use the same forward propagation as in training\n",
        "        for l in range(1, L):\n",
        "            W = parameters[f'W{l}']\n",
        "            b = parameters[f'b{l}']\n",
        "            Z = np.dot(W, A) + b\n",
        "            A = np.maximum(0, Z)  # ReLU activation\n",
        "\n",
        "        # Final layer with sigmoid\n",
        "        W = parameters[f'W{L}']\n",
        "        b = parameters[f'b{L}']\n",
        "        Z = np.dot(W, A) + b\n",
        "        Y_prediction = sigmoid(Z)\n",
        "\n",
        "        # Visualization\n",
        "        plt.figure(figsize=(10, 6))\n",
        "        plt.imshow(img)\n",
        "        plt.axis('off')\n",
        "\n",
        "        isCar = Y_prediction > 0.5\n",
        "        Pred_Probability = Y_prediction[0][0] * 100\n",
        "\n",
        "        prediction_text = \"Prediction: Car\" if isCar else \"Prediction: Not a Car\"\n",
        "        probability_text = f\"Probability: {Pred_Probability:.2f}%\"\n",
        "\n",
        "        plt.text(10, 20, prediction_text, color='white',\n",
        "                fontsize=12, fontweight='bold',\n",
        "                bbox=dict(facecolor='green' if isCar else 'red', alpha=0.7))\n",
        "        plt.text(10, 50, probability_text, color='white',\n",
        "                fontsize=10,\n",
        "                bbox=dict(facecolor='black', alpha=0.7))\n",
        "\n",
        "        plt.show()\n",
        "\n",
        "    except Exception as e:\n",
        "        print(f\"Error processing image: {str(e)}\")\n",
        "        raise"
      ],
      "metadata": {
        "id": "gIyu1E64XGiD"
      },
      "execution_count": null,
      "outputs": []
    },
    {
      "cell_type": "code",
      "source": [
        "# First save the parameters\n",
        "save_parameters(parameters)\n",
        "\n",
        "# Load saved parameters\n",
        "with open('parameters.pkl', 'rb') as f:\n",
        "    loaded_parameters = pickle.load(f)\n"
      ],
      "metadata": {
        "colab": {
          "base_uri": "https://localhost:8080/"
        },
        "id": "GrZNuPpFXXJo",
        "outputId": "08fe925e-e080-410b-a367-69362416f245"
      },
      "execution_count": null,
      "outputs": [
        {
          "output_type": "stream",
          "name": "stdout",
          "text": [
            "Parameters saved to parameters.pkl\n"
          ]
        }
      ]
    },
    {
      "cell_type": "code",
      "source": [
        "# Make predictions\n",
        "predict_from_png(\"/content/car.png\", loaded_parameters)"
      ],
      "metadata": {
        "colab": {
          "base_uri": "https://localhost:8080/",
          "height": 516
        },
        "id": "0nmKswKgXefm",
        "outputId": "62f07b43-e662-4f6f-d406-934fa3ab718f"
      },
      "execution_count": null,
      "outputs": [
        {
          "output_type": "stream",
          "name": "stdout",
          "text": [
            "72\n"
          ]
        },
        {
          "output_type": "display_data",
          "data": {
            "text/plain": [
              "<Figure size 1000x600 with 1 Axes>"
            ],
            "image/png": "[encoded data removed]"
          },
          "metadata": {}
        }
      ]
    },
    {
      "cell_type": "markdown",
      "source": [
        "\n",
        ">\n"
      ],
      "metadata": {
        "id": "uvcEblQs8PQ5"
      }
    },
    {
      "cell_type": "markdown",
      "source": [
        ">\n"
      ],
      "metadata": {
        "id": "ks7qqJ-88XEV"
      }
    },
    {
      "cell_type": "markdown",
      "source": [
        ">"
      ],
      "metadata": {
        "id": "xRITTLCo8ZBw"
      }
    },
    {
      "cell_type": "markdown",
      "source": [
        "\n",
        "\n",
        "---\n",
        "\n",
        "**Implementation using *Pytorch* of same below** >>\n",
        "\n",
        "\n",
        "\n",
        "---\n",
        "\n",
        "\n",
        "\n",
        "\n"
      ],
      "metadata": {
        "id": "lYlP7nKa7Gvt"
      }
    },
    {
      "cell_type": "markdown",
      "source": [
        ">\n"
      ],
      "metadata": {
        "id": "6YuYl5Tr8OIU"
      }
    },
    {
      "cell_type": "code",
      "source": [
        "import torch\n",
        "import torch.nn as nn\n",
        "import torch.optim as optim\n",
        "import torch.nn.functional as F\n",
        "from torch.utils.data import DataLoader, TensorDataset\n",
        "from PIL import Image\n",
        "import os"
      ],
      "metadata": {
        "id": "DEwdSZA9bWjf"
      },
      "execution_count": 5,
      "outputs": []
    },
    {
      "cell_type": "code",
      "source": [
        "import torch\n",
        "import torch.nn as nn\n",
        "import torch.optim as optim\n",
        "import numpy as np\n",
        "import os\n",
        "from PIL import Image\n",
        "\n",
        "class DNN(nn.Module):\n",
        "    def __init__(self, layer_dims):\n",
        "        super(DNN, self).__init__()\n",
        "        layers = []\n",
        "        L = len(layer_dims)\n",
        "\n",
        "        for l in range(1, L-1):\n",
        "            layers.append(nn.Linear(layer_dims[l-1], layer_dims[l]))\n",
        "            layers.append(nn.ReLU())\n",
        "\n",
        "        layers.append(nn.Linear(layer_dims[L-2], layer_dims[-1]))\n",
        "        layers.append(nn.Sigmoid())\n",
        "\n",
        "        self.model = nn.Sequential(*layers)\n",
        "\n",
        "    def forward(self, x):\n",
        "        return self.model(x)\n",
        "\n",
        "def load_dataset(folder, label):\n",
        "    images = []\n",
        "    for filename in os.listdir(folder):\n",
        "        img_path = os.path.join(folder, filename)\n",
        "        img = Image.open(img_path)\n",
        "        img_array = np.array(img) / 255.0\n",
        "        images.append(img_array.flatten())\n",
        "\n",
        "    labels = [label] * len(images)\n",
        "    return images, labels\n",
        "\n",
        "car_images, car_labels = load_dataset('/content/carnoncar-dataset/car_scaled/car_scaled', 1)\n",
        "non_car_images, non_car_labels = load_dataset(\"/content/carnoncar-dataset/non_car_scaled/non_car_scaled\", 0)\n",
        "X = np.array(car_images + non_car_images, dtype=np.float32)\n",
        "Y = np.array(car_labels + non_car_labels, dtype=np.float32).reshape(-1, 1)\n",
        "X_tensor = torch.tensor(X)\n",
        "Y_tensor = torch.tensor(Y)\n",
        "\n",
        "# model\n",
        "layers_dims = [X.shape[1], 20, 7, 1]\n",
        "model = DNN(layers_dims)\n",
        "\n",
        "# Loss and optimizer\n",
        "criterion = nn.BCELoss()\n",
        "optimizer = optim.SGD(model.parameters(), lr=0.001)\n",
        "\n",
        "# Training loop\n",
        "num_epochs = 2900\n",
        "for epoch in range(num_epochs):\n",
        "    optimizer.zero_grad()\n",
        "    outputs = model(X_tensor)\n",
        "    loss = criterion(outputs, Y_tensor)\n",
        "    loss.backward()  # Backpropagation\n",
        "    optimizer.step()\n",
        "\n",
        "    if epoch % 100 == 0:\n",
        "        print(f\"Epoch {epoch}/{num_epochs}, Loss: {loss.item():.4f}\")\n",
        "\n",
        "# Save the trained model\n",
        "torch.save(model.state_dict(), \"model.pth\")\n",
        "print(\"Model trained and saved.\")\n",
        "\n",
        "\n",
        "# Function to predict from an image\n",
        "def predict_from_image(image_path, model_path, input_size):\n",
        "    model = DNN([input_size, 20, 7, 1])  # Reinitialize the model\n",
        "    model.load_state_dict(torch.load(model_path))  # Load trained weights\n",
        "    model.eval()\n",
        "\n",
        "    img = Image.open(image_path).convert('L')  # Convert to grayscale if needed\n",
        "    img = img.resize((int(np.sqrt(input_size)), int(np.sqrt(input_size))))\n",
        "    img_array = np.array(img) / 255.0\n",
        "    img_tensor = torch.tensor(img_array.flatten(), dtype=torch.float32).unsqueeze(0)\n",
        "\n",
        "    with torch.no_grad():\n",
        "        prediction = model(img_tensor).item()\n",
        "\n",
        "    print(f\"\\n\\n\\nPrediction score: {prediction:.4f}\")\n",
        "    print(\"Car detected!\" if prediction > 0.5 else \"No car detected.\")\n",
        "\n",
        "# Example usage\n",
        "predict_from_image(\"car.png\", \"model.pth\", X.shape[1])\n",
        "\n"
      ],
      "metadata": {
        "colab": {
          "base_uri": "https://localhost:8080/"
        },
        "id": "eEpd5OWVI2jK",
        "outputId": "47e5a704-2d9d-4284-8a47-b58f01bc130d"
      },
      "execution_count": 28,
      "outputs": [
        {
          "output_type": "stream",
          "name": "stdout",
          "text": [
            "Epoch 0/2900, Loss: 0.7024\n",
            "Epoch 100/2900, Loss: 0.6207\n",
            "Epoch 200/2900, Loss: 0.5593\n",
            "Epoch 300/2900, Loss: 0.5001\n",
            "Epoch 400/2900, Loss: 0.4384\n",
            "Epoch 500/2900, Loss: 0.3784\n",
            "Epoch 600/2900, Loss: 0.3262\n",
            "Epoch 700/2900, Loss: 0.2841\n",
            "Epoch 800/2900, Loss: 0.2512\n",
            "Epoch 900/2900, Loss: 0.2258\n",
            "Epoch 1000/2900, Loss: 0.2060\n",
            "Epoch 1100/2900, Loss: 0.1904\n",
            "Epoch 1200/2900, Loss: 0.1777\n",
            "Epoch 1300/2900, Loss: 0.1671\n",
            "Epoch 1400/2900, Loss: 0.1582\n",
            "Epoch 1500/2900, Loss: 0.1504\n",
            "Epoch 1600/2900, Loss: 0.1435\n",
            "Epoch 1700/2900, Loss: 0.1372\n",
            "Epoch 1800/2900, Loss: 0.1315\n",
            "Epoch 1900/2900, Loss: 0.1262\n",
            "Epoch 2000/2900, Loss: 0.1213\n",
            "Epoch 2100/2900, Loss: 0.1166\n",
            "Epoch 2200/2900, Loss: 0.1121\n",
            "Epoch 2300/2900, Loss: 0.1078\n",
            "Epoch 2400/2900, Loss: 0.1037\n",
            "Epoch 2500/2900, Loss: 0.0998\n",
            "Epoch 2600/2900, Loss: 0.0960\n",
            "Epoch 2700/2900, Loss: 0.0923\n",
            "Epoch 2800/2900, Loss: 0.0887\n",
            "Model trained and saved.\n",
            "\n",
            "\n",
            "\n",
            "Prediction score: 0.6978\n",
            "Car detected!\n"
          ]
        },
        {
          "output_type": "stream",
          "name": "stderr",
          "text": [
            "<ipython-input-28-4dbc6ea2681b>:72: FutureWarning: You are using `torch.load` with `weights_only=False` (the current default value), which uses the default pickle module implicitly. It is possible to construct malicious pickle data which will execute arbitrary code during unpickling (See https://github.com/pytorch/pytorch/blob/main/SECURITY.md#untrusted-models for more details). In a future release, the default value for `weights_only` will be flipped to `True`. This limits the functions that could be executed during unpickling. Arbitrary objects will no longer be allowed to be loaded via this mode unless they are explicitly allowlisted by the user via `torch.serialization.add_safe_globals`. We recommend you start setting `weights_only=True` for any use case where you don't have full control of the loaded file. Please open an issue on GitHub for any issues related to this experimental feature.\n",
            "  model.load_state_dict(torch.load(model_path))  # Load trained weights\n"
          ]
        }
      ]
    },
    {
      "cell_type": "markdown",
      "source": [
        "\n",
        "\n",
        "---\n",
        "\n",
        "\n",
        "My Custom Implemenataion Results:\n",
        "------------------------------\n",
        "![image.png](data:image/png;base64,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)\n",
        "Results from using Pytorch:\n",
        "------------------------------\n",
        "![image.png](data:image/png;base64,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)"
      ],
      "metadata": {
        "id": "bkfCBs9PSG62"
      }
    },
    {
      "cell_type": "code",
      "source": [
        "from sklearn.metrics import accuracy_score, precision_score, recall_score, f1_score\n",
        "\n",
        "# Get predictions\n",
        "with torch.no_grad():\n",
        "    predictions = model(X_tensor)\n",
        "\n",
        "# Convert probabilities to binary (0 or 1)\n",
        "pred_labels = (predictions.numpy() > 0.5).astype(int)\n",
        "true_labels = Y_tensor.numpy()\n",
        "\n",
        "# Compute metrics\n",
        "train_accuracy = accuracy_score(true_labels, pred_labels) * 100\n",
        "precision = precision_score(true_labels, pred_labels)\n",
        "recall = recall_score(true_labels, pred_labels)\n",
        "f1 = f1_score(true_labels, pred_labels)\n",
        "\n",
        "# Compute TP, TN, FP, FN\n",
        "TP = np.sum((true_labels == 1) & (pred_labels == 1))\n",
        "TN = np.sum((true_labels == 0) & (pred_labels == 0))\n",
        "FP = np.sum((true_labels == 0) & (pred_labels == 1))\n",
        "FN = np.sum((true_labels == 1) & (pred_labels == 0))\n",
        "\n",
        "# Print results\n",
        "print(\"\\nModel Evaluation Metrics of pytorch Implementaion:\")\n",
        "print(\"-\" * 30)\n",
        "print(f\"Training Accuracy: {train_accuracy:.2f}%\\n\")\n",
        "\n",
        "print(\"Detailed Test Set Metrics:\")\n",
        "print(\"-\" * 30)\n",
        "print(f\"True Positives: {TP}\")\n",
        "print(f\"True Negatives: {TN}\")\n",
        "print(f\"False Positives: {FP}\")\n",
        "print(f\"False Negatives: {FN}\\n\")\n",
        "\n",
        "print(f\"Precision: {precision:.2f}\")\n",
        "print(f\"Recall: {recall:.2f}\")\n",
        "print(f\"F1 Score: {f1:.2f}\")\n"
      ],
      "metadata": {
        "colab": {
          "base_uri": "https://localhost:8080/"
        },
        "id": "XoYa0TstRGQD",
        "outputId": "3476fbac-870a-4159-92aa-0e8e8f58cc7e"
      },
      "execution_count": 35,
      "outputs": [
        {
          "output_type": "stream",
          "name": "stdout",
          "text": [
            "\n",
            "Model Evaluation Metrics of pytorch Implementaion:\n",
            "------------------------------\n",
            "Training Accuracy: 97.63%\n",
            "\n",
            "Detailed Test Set Metrics:\n",
            "------------------------------\n",
            "True Positives: 103\n",
            "True Negatives: 103\n",
            "False Positives: 1\n",
            "False Negatives: 4\n",
            "\n",
            "Precision: 0.99\n",
            "Recall: 0.96\n",
            "F1 Score: 0.98\n"
          ]
        }
      ]
    },
    {
      "cell_type": "code",
      "source": [],
      "metadata": {
        "id": "3kssE61zPFdp"
      },
      "execution_count": null,
      "outputs": []
    }
  ]
}